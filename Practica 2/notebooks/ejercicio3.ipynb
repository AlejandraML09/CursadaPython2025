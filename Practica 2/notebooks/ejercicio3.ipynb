{
 "cells": [
  {
   "cell_type": "markdown",
   "metadata": {},
   "source": [
    "Solicitar una palabra clave al usuario e imprimir todas las reglas que la contengan:"
   ]
  },
  {
   "cell_type": "code",
   "execution_count": 1,
   "metadata": {},
   "outputs": [],
   "source": [
    "rules = \"\"\"Respeta a los demás. No se permiten insultos ni lenguaje\n",
    "ofensivo.\n",
    "Evita el spam. No publiques enlaces sospechosos o repetitivos.\n",
    "No compartas información personal.\n",
    "Usa los canales adecuados para cada tema.\n",
    "Sigue las instrucciones de los moderadores.\"\"\"\n"
   ]
  },
  {
   "cell_type": "code",
   "execution_count": 17,
   "metadata": {},
   "outputs": [
    {
     "name": "stdout",
     "output_type": "stream",
     "text": [
      "['Evita el spam. No publiques enlaces sospechosos o repetitivos.']\n"
     ]
    }
   ],
   "source": [
    "keyword = input(\"Ingresa una palabra clave: \").strip().lower()\n",
    "rules_list = rules.splitlines()\n",
    "# Sin usar lambda primero\n",
    "# def sentence_includes_word(sentence):\n",
    "#    return keyword in sentence\n",
    "# new_list = filter(sentence_includes_word, rules_list)\n",
    "new_list = list(filter(lambda sentence: keyword in sentence, rules_list))\n",
    "print(new_list)\n"
   ]
  }
 ],
 "metadata": {
  "kernelspec": {
   "display_name": "Python 3",
   "language": "python",
   "name": "python3"
  },
  "language_info": {
   "codemirror_mode": {
    "name": "ipython",
    "version": 3
   },
   "file_extension": ".py",
   "mimetype": "text/x-python",
   "name": "python",
   "nbconvert_exporter": "python",
   "pygments_lexer": "ipython3",
   "version": "3.12.9"
  }
 },
 "nbformat": 4,
 "nbformat_minor": 2
}
