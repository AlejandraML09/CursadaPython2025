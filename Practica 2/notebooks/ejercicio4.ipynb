{
 "cells": [
  {
   "cell_type": "markdown",
   "metadata": {},
   "source": [
    "Validar un nombre de usuario con los criterios solicitados:"
   ]
  },
  {
   "cell_type": "code",
   "execution_count": null,
   "metadata": {},
   "outputs": [
    {
     "name": "stdout",
     "output_type": "stream",
     "text": [
      "El nombre de usuario es válido\n"
     ]
    }
   ],
   "source": [
    "entered_username = input(\"Ingrese un nombre de usuario:\").strip()\n",
    "def usuario_is_valid(entered_username):\n",
    "    #Verificamos que al menos tenga 5 caracteres\n",
    "    if (len(entered_username) < 5):\n",
    "        print(\"El nombre de usuario debe tener al menos 5 caracteres\")\n",
    "    # Luego verificamos a través del filter usando isdigit que sea digito. Si la cantidad de dígitos es 0, entonces no es válido.\n",
    "    elif len(list(filter(lambda char: char.isdigit(), entered_username))) == 0:\n",
    "        print(\"El nombre de usuario debe tener al menos 1 número\")\n",
    "    # Verificamos a través del filter usando isupper que sea mayúscula. Si la cantidad de mayúsculas es 0, entonces no es válido.\n",
    "    elif len(list(filter(lambda char: char.isupper(), entered_username))) == 0:\n",
    "        print(\"El nombre de usuario debe tener al menos una letra mayúscula\")\n",
    "    # Verificamos a través del isalnum si lo ingresado es alfanumérico. Si la cantidad de alfan es 0, entonces no es válido.\n",
    "    elif len(list(filter(lambda char: not(char.isalnum()), entered_username))) > 0:\n",
    "        print(\"El nombre de usuario debe ser alfanumérico\")\n",
    "    # Finalmente si pasa todas las condiciones, entonces es válido.\n",
    "    else:\n",
    "        print(\"El nombre de usuario es válido\")\n",
    "# Llamamos a la función y le pasamos la variable ingresada por teclado.\n",
    "usuario_is_valid(entered_username)\n"
   ]
  }
 ],
 "metadata": {
  "kernelspec": {
   "display_name": "Python 3",
   "language": "python",
   "name": "python3"
  },
  "language_info": {
   "codemirror_mode": {
    "name": "ipython",
    "version": 3
   },
   "file_extension": ".py",
   "mimetype": "text/x-python",
   "name": "python",
   "nbconvert_exporter": "python",
   "pygments_lexer": "ipython3",
   "version": "3.12.9"
  }
 },
 "nbformat": 4,
 "nbformat_minor": 2
}
