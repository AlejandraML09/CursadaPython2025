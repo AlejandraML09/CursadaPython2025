{
 "cells": [
  {
   "cell_type": "markdown",
   "metadata": {},
   "source": [
    "Validar un nombre de usuario con los criterios solicitados:"
   ]
  },
  {
   "cell_type": "code",
   "execution_count": 7,
   "metadata": {},
   "outputs": [
    {
     "name": "stdout",
     "output_type": "stream",
     "text": [
      "El nombre de usuario es válido\n"
     ]
    }
   ],
   "source": [
    "entered_username = input(\"Ingrese un nombre de usuario:\").strip()\n",
    "def usuario_is_valid(entered_username):\n",
    "    #Verificamos que al menos tenga 5 caracteres\n",
    "    if (len(entered_username) < 5):\n",
    "        print(\"El nombre de usuario debe tener al menos 5 caracteres\")\n",
    "    elif len(list(filter(lambda char: char.isdigit(), entered_username))) == 0:\n",
    "        print(\"El nombre de usuario debe tener al menos 1 número\")\n",
    "    elif len(list(filter(lambda char: char.isupper(), entered_username))) == 0:\n",
    "        print(\"El nombre de usuario debe tener al menos una letra mayúscula\")\n",
    "    elif len(list(filter(lambda char: not(char.isalnum()), entered_username))) > 0:\n",
    "        print(\"El nombre de usuario debe ser alfanumérico\")\n",
    "    else:\n",
    "        print(\"El nombre de usuario es válido\")\n",
    "\n",
    "usuario_is_valid(entered_username)\n"
   ]
  }
 ],
 "metadata": {
  "kernelspec": {
   "display_name": "Python 3",
   "language": "python",
   "name": "python3"
  },
  "language_info": {
   "codemirror_mode": {
    "name": "ipython",
    "version": 3
   },
   "file_extension": ".py",
   "mimetype": "text/x-python",
   "name": "python",
   "nbconvert_exporter": "python",
   "pygments_lexer": "ipython3",
   "version": "3.12.9"
  }
 },
 "nbformat": 4,
 "nbformat_minor": 2
}
