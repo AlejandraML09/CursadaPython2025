{
 "cells": [
  {
   "cell_type": "markdown",
   "metadata": {},
   "source": [
    "Encontrar el título más largo:"
   ]
  },
  {
   "cell_type": "code",
   "execution_count": 1,
   "metadata": {},
   "outputs": [],
   "source": [
    "titles = [\"Speedrun de Super Mario en tiempo récord\",\n",
    "\"Charla sobre desarrollo de videojuegos\",\n",
    "\"Jugando al nuevo FPS del momento con amigos\",\n",
    "\"Música en vivo: improvisaciones al piano\"  \n",
    "]"
   ]
  },
  {
   "cell_type": "markdown",
   "metadata": {},
   "source": [
    "Vamos a utilizar la función anónima lambda, en dónde por  cada elemento de la lista titles(es decir, cada título) va separarlo por espacios con el split (es decir, separa por palabras). A partir de eso se genera una nueva lista llamada title al cuál le vamos a hacer el len para saber el largo de la misma. Esa lista guarda entonces cuantos elementos (palabras) tiene cada título. \n",
    "A partir de eso, la función max va a comparar por si sola cuál tiene más elementos (es decir, más palabras)"
   ]
  },
  {
   "cell_type": "code",
   "execution_count": 2,
   "metadata": {},
   "outputs": [
    {
     "name": "stdout",
     "output_type": "stream",
     "text": [
      "El título con más palabras es:  Jugando al nuevo FPS del momento con amigos\n"
     ]
    }
   ],
   "source": [
    "title_with_most_words = max(titles, key=lambda title: len(title.split()))\n",
    "print(f'El título con más palabras es: ', title_with_most_words)"
   ]
  }
 ],
 "metadata": {
  "kernelspec": {
   "display_name": "Python 3",
   "language": "python",
   "name": "python3"
  },
  "language_info": {
   "codemirror_mode": {
    "name": "ipython",
    "version": 3
   },
   "file_extension": ".py",
   "mimetype": "text/x-python",
   "name": "python",
   "nbconvert_exporter": "python",
   "pygments_lexer": "ipython3",
   "version": "3.12.9"
  }
 },
 "nbformat": 4,
 "nbformat_minor": 2
}
